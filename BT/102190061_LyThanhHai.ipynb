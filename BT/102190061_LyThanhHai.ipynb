{
 "cells": [
  {
   "cell_type": "markdown",
   "metadata": {},
   "source": [
    "Data Science Excercise\n"
   ]
  },
  {
   "cell_type": "markdown",
   "metadata": {},
   "source": [
    "Ly Thanh Hai - 102190061"
   ]
  },
  {
   "cell_type": "markdown",
   "metadata": {},
   "source": [
    "1. Import library"
   ]
  },
  {
   "cell_type": "code",
   "execution_count": 35,
   "metadata": {},
   "outputs": [],
   "source": [
    "import pandas as pd\n",
    "import matplotlib.pyplot as plt\n",
    "import numpy as np\n",
    "import seaborn as sns\n",
    "import datetime"
   ]
  },
  {
   "cell_type": "markdown",
   "metadata": {},
   "source": [
    "2. Load datasets\n"
   ]
  },
  {
   "cell_type": "code",
   "execution_count": 36,
   "metadata": {},
   "outputs": [
    {
     "data": {
      "text/html": [
       "<div>\n",
       "<style scoped>\n",
       "    .dataframe tbody tr th:only-of-type {\n",
       "        vertical-align: middle;\n",
       "    }\n",
       "\n",
       "    .dataframe tbody tr th {\n",
       "        vertical-align: top;\n",
       "    }\n",
       "\n",
       "    .dataframe thead th {\n",
       "        text-align: right;\n",
       "    }\n",
       "</style>\n",
       "<table border=\"1\" class=\"dataframe\">\n",
       "  <thead>\n",
       "    <tr style=\"text-align: right;\">\n",
       "      <th></th>\n",
       "      <th>awardYear</th>\n",
       "      <th>category</th>\n",
       "      <th>categoryFullName</th>\n",
       "      <th>sortOrder</th>\n",
       "      <th>portion</th>\n",
       "      <th>prizeAmount</th>\n",
       "      <th>prizeAmountAdjusted</th>\n",
       "      <th>dateAwarded</th>\n",
       "      <th>prizeStatus</th>\n",
       "      <th>motivation</th>\n",
       "      <th>...</th>\n",
       "      <th>org_founded_countryNow</th>\n",
       "      <th>org_founded_locationString</th>\n",
       "      <th>ind_or_org</th>\n",
       "      <th>residence_1</th>\n",
       "      <th>residence_2</th>\n",
       "      <th>affiliation_1</th>\n",
       "      <th>affiliation_2</th>\n",
       "      <th>affiliation_3</th>\n",
       "      <th>affiliation_4</th>\n",
       "      <th>Unnamed: 52</th>\n",
       "    </tr>\n",
       "  </thead>\n",
       "  <tbody>\n",
       "    <tr>\n",
       "      <th>0</th>\n",
       "      <td>2001</td>\n",
       "      <td>Economic Sciences</td>\n",
       "      <td>The Sveriges Riksbank Prize in Economic Scienc...</td>\n",
       "      <td>2</td>\n",
       "      <td>1/3</td>\n",
       "      <td>10000000</td>\n",
       "      <td>12295082</td>\n",
       "      <td>2001-10-10</td>\n",
       "      <td>received</td>\n",
       "      <td>for their analyses of markets with asymmetric ...</td>\n",
       "      <td>...</td>\n",
       "      <td>NaN</td>\n",
       "      <td>NaN</td>\n",
       "      <td>Individual</td>\n",
       "      <td>NaN</td>\n",
       "      <td>NaN</td>\n",
       "      <td>Stanford University, Stanford, CA, USA</td>\n",
       "      <td>NaN</td>\n",
       "      <td>NaN</td>\n",
       "      <td>NaN</td>\n",
       "      <td>NaN</td>\n",
       "    </tr>\n",
       "    <tr>\n",
       "      <th>1</th>\n",
       "      <td>1975</td>\n",
       "      <td>Physics</td>\n",
       "      <td>The Nobel Prize in Physics</td>\n",
       "      <td>1</td>\n",
       "      <td>1/3</td>\n",
       "      <td>630000</td>\n",
       "      <td>3404179</td>\n",
       "      <td>1975-10-17</td>\n",
       "      <td>received</td>\n",
       "      <td>for the discovery of the connection between co...</td>\n",
       "      <td>...</td>\n",
       "      <td>NaN</td>\n",
       "      <td>NaN</td>\n",
       "      <td>Individual</td>\n",
       "      <td>NaN</td>\n",
       "      <td>NaN</td>\n",
       "      <td>Niels Bohr Institute, Copenhagen, Denmark</td>\n",
       "      <td>NaN</td>\n",
       "      <td>NaN</td>\n",
       "      <td>NaN</td>\n",
       "      <td>NaN</td>\n",
       "    </tr>\n",
       "    <tr>\n",
       "      <th>2</th>\n",
       "      <td>2004</td>\n",
       "      <td>Chemistry</td>\n",
       "      <td>The Nobel Prize in Chemistry</td>\n",
       "      <td>1</td>\n",
       "      <td>1/3</td>\n",
       "      <td>10000000</td>\n",
       "      <td>11762861</td>\n",
       "      <td>2004-10-06</td>\n",
       "      <td>received</td>\n",
       "      <td>for the discovery of ubiquitin-mediated protei...</td>\n",
       "      <td>...</td>\n",
       "      <td>NaN</td>\n",
       "      <td>NaN</td>\n",
       "      <td>Individual</td>\n",
       "      <td>NaN</td>\n",
       "      <td>NaN</td>\n",
       "      <td>Technion - Israel Institute of Technology, Hai...</td>\n",
       "      <td>NaN</td>\n",
       "      <td>NaN</td>\n",
       "      <td>NaN</td>\n",
       "      <td>NaN</td>\n",
       "    </tr>\n",
       "    <tr>\n",
       "      <th>3</th>\n",
       "      <td>1982</td>\n",
       "      <td>Chemistry</td>\n",
       "      <td>The Nobel Prize in Chemistry</td>\n",
       "      <td>1</td>\n",
       "      <td>1</td>\n",
       "      <td>1150000</td>\n",
       "      <td>3102518</td>\n",
       "      <td>1982-10-18</td>\n",
       "      <td>received</td>\n",
       "      <td>for his development of crystallographic electr...</td>\n",
       "      <td>...</td>\n",
       "      <td>NaN</td>\n",
       "      <td>NaN</td>\n",
       "      <td>Individual</td>\n",
       "      <td>NaN</td>\n",
       "      <td>NaN</td>\n",
       "      <td>MRC Laboratory of Molecular Biology, Cambridge...</td>\n",
       "      <td>NaN</td>\n",
       "      <td>NaN</td>\n",
       "      <td>NaN</td>\n",
       "      <td>NaN</td>\n",
       "    </tr>\n",
       "    <tr>\n",
       "      <th>4</th>\n",
       "      <td>1979</td>\n",
       "      <td>Physics</td>\n",
       "      <td>The Nobel Prize in Physics</td>\n",
       "      <td>2</td>\n",
       "      <td>1/3</td>\n",
       "      <td>800000</td>\n",
       "      <td>2988048</td>\n",
       "      <td>1979-10-15</td>\n",
       "      <td>received</td>\n",
       "      <td>for their contributions to the theory of the u...</td>\n",
       "      <td>...</td>\n",
       "      <td>NaN</td>\n",
       "      <td>NaN</td>\n",
       "      <td>Individual</td>\n",
       "      <td>NaN</td>\n",
       "      <td>NaN</td>\n",
       "      <td>International Centre for Theoretical Physics, ...</td>\n",
       "      <td>Imperial College, London, United Kingdom</td>\n",
       "      <td>NaN</td>\n",
       "      <td>NaN</td>\n",
       "      <td>NaN</td>\n",
       "    </tr>\n",
       "  </tbody>\n",
       "</table>\n",
       "<p>5 rows × 53 columns</p>\n",
       "</div>"
      ],
      "text/plain": [
       "   awardYear           category  \\\n",
       "0       2001  Economic Sciences   \n",
       "1       1975            Physics   \n",
       "2       2004          Chemistry   \n",
       "3       1982          Chemistry   \n",
       "4       1979            Physics   \n",
       "\n",
       "                                    categoryFullName  sortOrder portion  \\\n",
       "0  The Sveriges Riksbank Prize in Economic Scienc...          2     1/3   \n",
       "1                         The Nobel Prize in Physics          1     1/3   \n",
       "2                       The Nobel Prize in Chemistry          1     1/3   \n",
       "3                       The Nobel Prize in Chemistry          1       1   \n",
       "4                         The Nobel Prize in Physics          2     1/3   \n",
       "\n",
       "   prizeAmount  prizeAmountAdjusted dateAwarded prizeStatus  \\\n",
       "0     10000000             12295082  2001-10-10    received   \n",
       "1       630000              3404179  1975-10-17    received   \n",
       "2     10000000             11762861  2004-10-06    received   \n",
       "3      1150000              3102518  1982-10-18    received   \n",
       "4       800000              2988048  1979-10-15    received   \n",
       "\n",
       "                                          motivation  ...  \\\n",
       "0  for their analyses of markets with asymmetric ...  ...   \n",
       "1  for the discovery of the connection between co...  ...   \n",
       "2  for the discovery of ubiquitin-mediated protei...  ...   \n",
       "3  for his development of crystallographic electr...  ...   \n",
       "4  for their contributions to the theory of the u...  ...   \n",
       "\n",
       "  org_founded_countryNow org_founded_locationString  ind_or_org residence_1  \\\n",
       "0                    NaN                        NaN  Individual         NaN   \n",
       "1                    NaN                        NaN  Individual         NaN   \n",
       "2                    NaN                        NaN  Individual         NaN   \n",
       "3                    NaN                        NaN  Individual         NaN   \n",
       "4                    NaN                        NaN  Individual         NaN   \n",
       "\n",
       "  residence_2                                      affiliation_1  \\\n",
       "0         NaN             Stanford University, Stanford, CA, USA   \n",
       "1         NaN          Niels Bohr Institute, Copenhagen, Denmark   \n",
       "2         NaN  Technion - Israel Institute of Technology, Hai...   \n",
       "3         NaN  MRC Laboratory of Molecular Biology, Cambridge...   \n",
       "4         NaN  International Centre for Theoretical Physics, ...   \n",
       "\n",
       "                              affiliation_2 affiliation_3 affiliation_4  \\\n",
       "0                                       NaN           NaN           NaN   \n",
       "1                                       NaN           NaN           NaN   \n",
       "2                                       NaN           NaN           NaN   \n",
       "3                                       NaN           NaN           NaN   \n",
       "4  Imperial College, London, United Kingdom           NaN           NaN   \n",
       "\n",
       "  Unnamed: 52  \n",
       "0         NaN  \n",
       "1         NaN  \n",
       "2         NaN  \n",
       "3         NaN  \n",
       "4         NaN  \n",
       "\n",
       "[5 rows x 53 columns]"
      ]
     },
     "execution_count": 36,
     "metadata": {},
     "output_type": "execute_result"
    }
   ],
   "source": [
    "data = pd.read_csv('../State/Nobel/complete.csv')\n",
    "data.head()"
   ]
  },
  {
   "cell_type": "code",
   "execution_count": 37,
   "metadata": {},
   "outputs": [
    {
     "data": {
      "text/plain": [
       "awardYear                0\n",
       "category                 0\n",
       "sortOrder                0\n",
       "portion                  0\n",
       "prizeAmount              0\n",
       "prizeAmountAdjusted      0\n",
       "dateAwarded            417\n",
       "id                       0\n",
       "name                     0\n",
       "gender                  29\n",
       "birth_date              27\n",
       "birth_continent         27\n",
       "birth_country           27\n",
       "death_date             318\n",
       "org_founded_date       924\n",
       "ind_or_org               3\n",
       "Unnamed: 52            949\n",
       "dtype: int64"
      ]
     },
     "execution_count": 37,
     "metadata": {},
     "output_type": "execute_result"
    }
   ],
   "source": [
    "# xoa cac truong khong can thiet\n",
    "data.drop(columns=['categoryFullName', 'org_founded_continent' , 'org_founded_country', 'prizeStatus','motivation','categoryTopMotivation','award_link','knownName','givenName','familyName','fullName','penName','laureate_link','birth_cityNow','birth_countryNow','orgName','birth_locationString','death_city','death_cityNow','death_continent','death_country','death_countryNow','death_locationString','nativeName','acronym','org_founded_cityNow','org_founded_countryNow','org_founded_locationString','residence_1','residence_2','affiliation_1','affiliation_2','affiliation_3','affiliation_4','birth_city','org_founded_city'],inplace=True)\n",
    "data.isnull().sum()"
   ]
  },
  {
   "cell_type": "code",
   "execution_count": 38,
   "metadata": {},
   "outputs": [],
   "source": [
    "# thay the du lieu trong bang gia tri organization\n",
    "data['gender'] = data['gender'].replace(np.nan, 'organization')"
   ]
  },
  {
   "cell_type": "code",
   "execution_count": 39,
   "metadata": {},
   "outputs": [],
   "source": [
    "data.birth_date.fillna(data.org_founded_date, inplace= True)\n",
    "del data['org_founded_date']"
   ]
  },
  {
   "cell_type": "code",
   "execution_count": 40,
   "metadata": {},
   "outputs": [
    {
     "data": {
      "text/plain": [
       "1"
      ]
     },
     "execution_count": 40,
     "metadata": {},
     "output_type": "execute_result"
    }
   ],
   "source": [
    "data['birth_date'].isna().sum()"
   ]
  },
  {
   "cell_type": "code",
   "execution_count": 41,
   "metadata": {},
   "outputs": [
    {
     "data": {
      "text/html": [
       "<div>\n",
       "<style scoped>\n",
       "    .dataframe tbody tr th:only-of-type {\n",
       "        vertical-align: middle;\n",
       "    }\n",
       "\n",
       "    .dataframe tbody tr th {\n",
       "        vertical-align: top;\n",
       "    }\n",
       "\n",
       "    .dataframe thead th {\n",
       "        text-align: right;\n",
       "    }\n",
       "</style>\n",
       "<table border=\"1\" class=\"dataframe\">\n",
       "  <thead>\n",
       "    <tr style=\"text-align: right;\">\n",
       "      <th></th>\n",
       "      <th>awardYear</th>\n",
       "      <th>category</th>\n",
       "      <th>sortOrder</th>\n",
       "      <th>portion</th>\n",
       "      <th>prizeAmount</th>\n",
       "      <th>prizeAmountAdjusted</th>\n",
       "      <th>dateAwarded</th>\n",
       "      <th>id</th>\n",
       "      <th>name</th>\n",
       "      <th>gender</th>\n",
       "      <th>birth_date</th>\n",
       "      <th>birth_continent</th>\n",
       "      <th>birth_country</th>\n",
       "      <th>death_date</th>\n",
       "      <th>ind_or_org</th>\n",
       "      <th>Unnamed: 52</th>\n",
       "    </tr>\n",
       "  </thead>\n",
       "  <tbody>\n",
       "    <tr>\n",
       "      <th>617</th>\n",
       "      <td>2015</td>\n",
       "      <td>Peace</td>\n",
       "      <td>1</td>\n",
       "      <td>1</td>\n",
       "      <td>8000000</td>\n",
       "      <td>8384572</td>\n",
       "      <td>2015-10-09</td>\n",
       "      <td>925</td>\n",
       "      <td>National Dialogue Quartet</td>\n",
       "      <td>organization</td>\n",
       "      <td>NaN</td>\n",
       "      <td>NaN</td>\n",
       "      <td>NaN</td>\n",
       "      <td>NaN</td>\n",
       "      <td>Organization</td>\n",
       "      <td>NaN</td>\n",
       "    </tr>\n",
       "  </tbody>\n",
       "</table>\n",
       "</div>"
      ],
      "text/plain": [
       "     awardYear category  sortOrder portion  prizeAmount  prizeAmountAdjusted  \\\n",
       "617       2015    Peace          1       1      8000000              8384572   \n",
       "\n",
       "    dateAwarded   id                        name        gender birth_date  \\\n",
       "617  2015-10-09  925  National Dialogue Quartet   organization        NaN   \n",
       "\n",
       "    birth_continent birth_country death_date    ind_or_org Unnamed: 52  \n",
       "617             NaN           NaN        NaN  Organization         NaN  "
      ]
     },
     "execution_count": 41,
     "metadata": {},
     "output_type": "execute_result"
    }
   ],
   "source": [
    "data[data['birth_date'].isna()]"
   ]
  },
  {
   "cell_type": "code",
   "execution_count": 42,
   "metadata": {},
   "outputs": [],
   "source": [
    "data['birth_date'] = data['birth_date'].replace(np.nan, 'not specified')"
   ]
  },
  {
   "cell_type": "code",
   "execution_count": 43,
   "metadata": {},
   "outputs": [],
   "source": [
    "data['birth_country'] = data['birth_country'].replace(np.nan, 'not specified')"
   ]
  },
  {
   "cell_type": "code",
   "execution_count": 44,
   "metadata": {},
   "outputs": [],
   "source": [
    "data['dateAwarded'] = data['dateAwarded'].replace(np.nan, 'not specified')"
   ]
  },
  {
   "cell_type": "code",
   "execution_count": 45,
   "metadata": {},
   "outputs": [
    {
     "data": {
      "text/html": [
       "<div>\n",
       "<style scoped>\n",
       "    .dataframe tbody tr th:only-of-type {\n",
       "        vertical-align: middle;\n",
       "    }\n",
       "\n",
       "    .dataframe tbody tr th {\n",
       "        vertical-align: top;\n",
       "    }\n",
       "\n",
       "    .dataframe thead th {\n",
       "        text-align: right;\n",
       "    }\n",
       "</style>\n",
       "<table border=\"1\" class=\"dataframe\">\n",
       "  <thead>\n",
       "    <tr style=\"text-align: right;\">\n",
       "      <th></th>\n",
       "      <th>awardYear</th>\n",
       "      <th>category</th>\n",
       "      <th>sortOrder</th>\n",
       "      <th>portion</th>\n",
       "      <th>prizeAmount</th>\n",
       "      <th>prizeAmountAdjusted</th>\n",
       "      <th>dateAwarded</th>\n",
       "      <th>id</th>\n",
       "      <th>name</th>\n",
       "      <th>gender</th>\n",
       "      <th>birth_date</th>\n",
       "      <th>birth_continent</th>\n",
       "      <th>birth_country</th>\n",
       "      <th>death_date</th>\n",
       "      <th>ind_or_org</th>\n",
       "      <th>Unnamed: 52</th>\n",
       "    </tr>\n",
       "  </thead>\n",
       "  <tbody>\n",
       "    <tr>\n",
       "      <th>0</th>\n",
       "      <td>2001</td>\n",
       "      <td>Economic Sciences</td>\n",
       "      <td>2</td>\n",
       "      <td>1/3</td>\n",
       "      <td>10000000</td>\n",
       "      <td>12295082</td>\n",
       "      <td>2001-10-10</td>\n",
       "      <td>745</td>\n",
       "      <td>A. Michael Spence</td>\n",
       "      <td>male</td>\n",
       "      <td>1943-00-00</td>\n",
       "      <td>North America</td>\n",
       "      <td>USA</td>\n",
       "      <td>NaN</td>\n",
       "      <td>Individual</td>\n",
       "      <td>NaN</td>\n",
       "    </tr>\n",
       "    <tr>\n",
       "      <th>1</th>\n",
       "      <td>1975</td>\n",
       "      <td>Physics</td>\n",
       "      <td>1</td>\n",
       "      <td>1/3</td>\n",
       "      <td>630000</td>\n",
       "      <td>3404179</td>\n",
       "      <td>1975-10-17</td>\n",
       "      <td>102</td>\n",
       "      <td>Aage N. Bohr</td>\n",
       "      <td>male</td>\n",
       "      <td>1922-06-19</td>\n",
       "      <td>Europe</td>\n",
       "      <td>Denmark</td>\n",
       "      <td>2009-09-08</td>\n",
       "      <td>Individual</td>\n",
       "      <td>NaN</td>\n",
       "    </tr>\n",
       "    <tr>\n",
       "      <th>2</th>\n",
       "      <td>2004</td>\n",
       "      <td>Chemistry</td>\n",
       "      <td>1</td>\n",
       "      <td>1/3</td>\n",
       "      <td>10000000</td>\n",
       "      <td>11762861</td>\n",
       "      <td>2004-10-06</td>\n",
       "      <td>779</td>\n",
       "      <td>Aaron Ciechanover</td>\n",
       "      <td>male</td>\n",
       "      <td>1947-10-01</td>\n",
       "      <td>Asia</td>\n",
       "      <td>British Protectorate of Palestine</td>\n",
       "      <td>NaN</td>\n",
       "      <td>Individual</td>\n",
       "      <td>NaN</td>\n",
       "    </tr>\n",
       "    <tr>\n",
       "      <th>3</th>\n",
       "      <td>1982</td>\n",
       "      <td>Chemistry</td>\n",
       "      <td>1</td>\n",
       "      <td>1</td>\n",
       "      <td>1150000</td>\n",
       "      <td>3102518</td>\n",
       "      <td>1982-10-18</td>\n",
       "      <td>259</td>\n",
       "      <td>Aaron Klug</td>\n",
       "      <td>male</td>\n",
       "      <td>1926-08-11</td>\n",
       "      <td>Europe</td>\n",
       "      <td>Lithuania</td>\n",
       "      <td>2018-11-20</td>\n",
       "      <td>Individual</td>\n",
       "      <td>NaN</td>\n",
       "    </tr>\n",
       "    <tr>\n",
       "      <th>4</th>\n",
       "      <td>1979</td>\n",
       "      <td>Physics</td>\n",
       "      <td>2</td>\n",
       "      <td>1/3</td>\n",
       "      <td>800000</td>\n",
       "      <td>2988048</td>\n",
       "      <td>1979-10-15</td>\n",
       "      <td>114</td>\n",
       "      <td>Abdus Salam</td>\n",
       "      <td>male</td>\n",
       "      <td>1926-01-29</td>\n",
       "      <td>Asia</td>\n",
       "      <td>India</td>\n",
       "      <td>1996-11-21</td>\n",
       "      <td>Individual</td>\n",
       "      <td>NaN</td>\n",
       "    </tr>\n",
       "    <tr>\n",
       "      <th>...</th>\n",
       "      <td>...</td>\n",
       "      <td>...</td>\n",
       "      <td>...</td>\n",
       "      <td>...</td>\n",
       "      <td>...</td>\n",
       "      <td>...</td>\n",
       "      <td>...</td>\n",
       "      <td>...</td>\n",
       "      <td>...</td>\n",
       "      <td>...</td>\n",
       "      <td>...</td>\n",
       "      <td>...</td>\n",
       "      <td>...</td>\n",
       "      <td>...</td>\n",
       "      <td>...</td>\n",
       "      <td>...</td>\n",
       "    </tr>\n",
       "    <tr>\n",
       "      <th>945</th>\n",
       "      <td>1972</td>\n",
       "      <td>Physics</td>\n",
       "      <td>1</td>\n",
       "      <td>1/3</td>\n",
       "      <td>480000</td>\n",
       "      <td>3345725</td>\n",
       "      <td>not specified</td>\n",
       "      <td>66</td>\n",
       "      <td>John Bardeen</td>\n",
       "      <td>male</td>\n",
       "      <td>1908-05-23</td>\n",
       "      <td>North America</td>\n",
       "      <td>USA</td>\n",
       "      <td>1991-01-30</td>\n",
       "      <td>Individual</td>\n",
       "      <td>NaN</td>\n",
       "    </tr>\n",
       "    <tr>\n",
       "      <th>946</th>\n",
       "      <td>1954</td>\n",
       "      <td>Chemistry</td>\n",
       "      <td>1</td>\n",
       "      <td>1</td>\n",
       "      <td>181647</td>\n",
       "      <td>2640218</td>\n",
       "      <td>not specified</td>\n",
       "      <td>217</td>\n",
       "      <td>Linus Pauling</td>\n",
       "      <td>male</td>\n",
       "      <td>1901-02-28</td>\n",
       "      <td>North America</td>\n",
       "      <td>USA</td>\n",
       "      <td>1994-08-19</td>\n",
       "      <td>Individual</td>\n",
       "      <td>NaN</td>\n",
       "    </tr>\n",
       "    <tr>\n",
       "      <th>947</th>\n",
       "      <td>1911</td>\n",
       "      <td>Chemistry</td>\n",
       "      <td>1</td>\n",
       "      <td>1</td>\n",
       "      <td>140695</td>\n",
       "      <td>7327865</td>\n",
       "      <td>not specified</td>\n",
       "      <td>6</td>\n",
       "      <td>Marie Curie</td>\n",
       "      <td>female</td>\n",
       "      <td>1867-11-07</td>\n",
       "      <td>Europe</td>\n",
       "      <td>Russian Empire</td>\n",
       "      <td>1934-07-04</td>\n",
       "      <td>Individual</td>\n",
       "      <td>NaN</td>\n",
       "    </tr>\n",
       "    <tr>\n",
       "      <th>948</th>\n",
       "      <td>1981</td>\n",
       "      <td>Peace</td>\n",
       "      <td>1</td>\n",
       "      <td>1</td>\n",
       "      <td>1000000</td>\n",
       "      <td>2929688</td>\n",
       "      <td>1981-10-14</td>\n",
       "      <td>515</td>\n",
       "      <td>Office of the United Nations High Commissioner...</td>\n",
       "      <td>organization</td>\n",
       "      <td>1951-00-00</td>\n",
       "      <td>NaN</td>\n",
       "      <td>not specified</td>\n",
       "      <td>NaN</td>\n",
       "      <td>Organization</td>\n",
       "      <td>NaN</td>\n",
       "    </tr>\n",
       "    <tr>\n",
       "      <th>949</th>\n",
       "      <td>1963</td>\n",
       "      <td>Peace</td>\n",
       "      <td>1</td>\n",
       "      <td>1/2</td>\n",
       "      <td>265000</td>\n",
       "      <td>2839286</td>\n",
       "      <td>1963-10-10</td>\n",
       "      <td>482</td>\n",
       "      <td>International Committee of the Red Cross</td>\n",
       "      <td>organization</td>\n",
       "      <td>1863-00-00</td>\n",
       "      <td>NaN</td>\n",
       "      <td>not specified</td>\n",
       "      <td>NaN</td>\n",
       "      <td>Organization</td>\n",
       "      <td>NaN</td>\n",
       "    </tr>\n",
       "  </tbody>\n",
       "</table>\n",
       "<p>950 rows × 16 columns</p>\n",
       "</div>"
      ],
      "text/plain": [
       "     awardYear           category  sortOrder portion  prizeAmount  \\\n",
       "0         2001  Economic Sciences          2     1/3     10000000   \n",
       "1         1975            Physics          1     1/3       630000   \n",
       "2         2004          Chemistry          1     1/3     10000000   \n",
       "3         1982          Chemistry          1       1      1150000   \n",
       "4         1979            Physics          2     1/3       800000   \n",
       "..         ...                ...        ...     ...          ...   \n",
       "945       1972            Physics          1     1/3       480000   \n",
       "946       1954          Chemistry          1       1       181647   \n",
       "947       1911          Chemistry          1       1       140695   \n",
       "948       1981              Peace          1       1      1000000   \n",
       "949       1963              Peace          1     1/2       265000   \n",
       "\n",
       "     prizeAmountAdjusted    dateAwarded   id  \\\n",
       "0               12295082     2001-10-10  745   \n",
       "1                3404179     1975-10-17  102   \n",
       "2               11762861     2004-10-06  779   \n",
       "3                3102518     1982-10-18  259   \n",
       "4                2988048     1979-10-15  114   \n",
       "..                   ...            ...  ...   \n",
       "945              3345725  not specified   66   \n",
       "946              2640218  not specified  217   \n",
       "947              7327865  not specified    6   \n",
       "948              2929688     1981-10-14  515   \n",
       "949              2839286     1963-10-10  482   \n",
       "\n",
       "                                                  name        gender  \\\n",
       "0                                    A. Michael Spence          male   \n",
       "1                                         Aage N. Bohr          male   \n",
       "2                                    Aaron Ciechanover          male   \n",
       "3                                           Aaron Klug          male   \n",
       "4                                          Abdus Salam          male   \n",
       "..                                                 ...           ...   \n",
       "945                                       John Bardeen          male   \n",
       "946                                      Linus Pauling          male   \n",
       "947                                        Marie Curie        female   \n",
       "948  Office of the United Nations High Commissioner...  organization   \n",
       "949           International Committee of the Red Cross  organization   \n",
       "\n",
       "     birth_date birth_continent                      birth_country  \\\n",
       "0    1943-00-00   North America                                USA   \n",
       "1    1922-06-19          Europe                            Denmark   \n",
       "2    1947-10-01            Asia  British Protectorate of Palestine   \n",
       "3    1926-08-11          Europe                          Lithuania   \n",
       "4    1926-01-29            Asia                              India   \n",
       "..          ...             ...                                ...   \n",
       "945  1908-05-23   North America                                USA   \n",
       "946  1901-02-28   North America                                USA   \n",
       "947  1867-11-07          Europe                     Russian Empire   \n",
       "948  1951-00-00             NaN                      not specified   \n",
       "949  1863-00-00             NaN                      not specified   \n",
       "\n",
       "     death_date    ind_or_org Unnamed: 52  \n",
       "0           NaN    Individual         NaN  \n",
       "1    2009-09-08    Individual         NaN  \n",
       "2           NaN    Individual         NaN  \n",
       "3    2018-11-20    Individual         NaN  \n",
       "4    1996-11-21    Individual         NaN  \n",
       "..          ...           ...         ...  \n",
       "945  1991-01-30    Individual         NaN  \n",
       "946  1994-08-19    Individual         NaN  \n",
       "947  1934-07-04    Individual         NaN  \n",
       "948         NaN  Organization         NaN  \n",
       "949         NaN  Organization         NaN  \n",
       "\n",
       "[950 rows x 16 columns]"
      ]
     },
     "execution_count": 45,
     "metadata": {},
     "output_type": "execute_result"
    }
   ],
   "source": [
    "data"
   ]
  },
  {
   "cell_type": "markdown",
   "metadata": {},
   "source": [
    "3. Calculate age "
   ]
  },
  {
   "cell_type": "code",
   "execution_count": 46,
   "metadata": {},
   "outputs": [],
   "source": [
    "def checkValidDate(dataItem, format):\n",
    "    try:\n",
    "        datetime.datetime.strptime(dataItem, format)\n",
    "        return 1\n",
    "    except ValueError:\n",
    "        return 0\n",
    "# print(type(int(data[\"birth_date\"][1].split(\"-\")[0])) == str)\n",
    "# print(checkValidDate(data[\"birth_date\"][1], '%Y-%m-%d'))\n",
    "\n",
    "def calculateAge(data):\n",
    "    data_copy = data.copy()\n",
    "    data_copy[\"Age\"] = 0\n",
    "    for i in range(len(data[\"dateAwarded\"])):\n",
    "        if checkValidDate(data[\"birth_date\"][i], \"%Y-%m-%d\") == 1:\n",
    "            data_copy[\"Age\"][i] = int(data[\"awardYear\"][i]) - int(data[\"birth_date\"][i].split(\"-\")[0])\n",
    "        else:\n",
    "            continue\n",
    "    data_copy['Age'] = data_copy['Age'].replace(0, data_copy.Age.median())\n",
    "    return data_copy\n",
    "    "
   ]
  },
  {
   "cell_type": "code",
   "execution_count": 47,
   "metadata": {},
   "outputs": [
    {
     "name": "stderr",
     "output_type": "stream",
     "text": [
      "/tmp/ipykernel_25453/2351164605.py:15: SettingWithCopyWarning: \n",
      "A value is trying to be set on a copy of a slice from a DataFrame\n",
      "\n",
      "See the caveats in the documentation: https://pandas.pydata.org/pandas-docs/stable/user_guide/indexing.html#returning-a-view-versus-a-copy\n",
      "  data_copy[\"Age\"][i] = int(data[\"awardYear\"][i]) - int(data[\"birth_date\"][i].split(\"-\")[0])\n"
     ]
    },
    {
     "data": {
      "text/plain": [
       "awardYear                0\n",
       "category                 0\n",
       "sortOrder                0\n",
       "portion                  0\n",
       "prizeAmount              0\n",
       "prizeAmountAdjusted      0\n",
       "dateAwarded              0\n",
       "id                       0\n",
       "name                     0\n",
       "gender                   0\n",
       "birth_date               0\n",
       "birth_continent         27\n",
       "birth_country            0\n",
       "death_date             318\n",
       "ind_or_org               3\n",
       "Unnamed: 52            949\n",
       "Age                      0\n",
       "dtype: int64"
      ]
     },
     "execution_count": 47,
     "metadata": {},
     "output_type": "execute_result"
    }
   ],
   "source": [
    "# Here you can see that there is no NaN value in any of the column\n",
    "data = calculateAge(data)\n",
    "data.isnull().sum()"
   ]
  },
  {
   "cell_type": "markdown",
   "metadata": {},
   "source": [
    "4. Remove Outliers\n"
   ]
  },
  {
   "cell_type": "code",
   "execution_count": 48,
   "metadata": {},
   "outputs": [
    {
     "data": {
      "text/plain": [
       "<AxesSubplot:>"
      ]
     },
     "execution_count": 48,
     "metadata": {},
     "output_type": "execute_result"
    },
    {
     "data": {
      "image/png": "[encoded data removed]",
      "text/plain": [
       "<Figure size 432x288 with 2 Axes>"
      ]
     },
     "metadata": {
      "needs_background": "light"
     },
     "output_type": "display_data"
    }
   ],
   "source": [
    "corr = data.corr().round(2)\n",
    "mask = np.zeros_like(corr)\n",
    "sns.heatmap(corr, mask=mask, vmax=0.5, square=True, annot=True, cmap=\"YlGnBu\", linewidths=.6)"
   ]
  },
  {
   "cell_type": "code",
   "execution_count": 49,
   "metadata": {},
   "outputs": [
    {
     "data": {
      "image/png": "[encoded data removed]",
      "text/plain": [
       "<Figure size 360x360 with 1 Axes>"
      ]
     },
     "metadata": {
      "needs_background": "light"
     },
     "output_type": "display_data"
    },
    {
     "data": {
      "image/png": "[encoded data removed]",
      "text/plain": [
       "<Figure size 360x360 with 1 Axes>"
      ]
     },
     "metadata": {
      "needs_background": "light"
     },
     "output_type": "display_data"
    },
    {
     "data": {
      "image/png": "[encoded data removed]",
      "text/plain": [
       "<Figure size 360x360 with 1 Axes>"
      ]
     },
     "metadata": {
      "needs_background": "light"
     },
     "output_type": "display_data"
    }
   ],
   "source": [
    "sns.displot(data= data[\"prizeAmount\"])\n",
    "plt.show()\n",
    "sns.displot(data= data[\"prizeAmountAdjusted\"])\n",
    "plt.show()\n",
    "sns.displot(data= data[\"Age\"])\n",
    "plt.show()"
   ]
  },
  {
   "cell_type": "code",
   "execution_count": 50,
   "metadata": {},
   "outputs": [],
   "source": [
    "#2 Xu ly du lieu ngoai le prizeAmount\n",
    "def removeOutliersPrizeAmount(df):\n",
    "    Q3 = np.quantile(data[\"prizeAmount\"], 0.75)\n",
    "    Q1 = np.quantile(data[\"prizeAmount\"], 0.25)\n",
    "    IQR = Q3 - Q1\n",
    "    sideTop = Q3 + 3 * IQR\n",
    "    sideBot = Q1 - 3 * IQR\n",
    "\n",
    "    arrayPrizeAmount = []\n",
    "    for i in range(0, len(df[\"prizeAmount\"])):\n",
    "        if df[\"prizeAmount\"][i] < sideBot:\n",
    "            arrayPrizeAmount.append(sideBot)\n",
    "        elif df[\"prizeAmount\"][i] > sideTop:\n",
    "            arrayPrizeAmount.append(sideTop)\n",
    "        else:\n",
    "            arrayPrizeAmount.append(df[\"prizeAmount\"][i])\n",
    "    df[\"prizeAmount\"] = arrayPrizeAmount  \n",
    "    return df\n",
    "\n",
    "data = removeOutliersPrizeAmount(data)\n",
    "\n",
    "#2 Xu ly du lieu ngoai le prizeAmountAdjusted\n",
    "def removeOutliersPrizeAmount(df):\n",
    "    Q3 = np.quantile(data[\"prizeAmountAdjusted\"], 0.75)\n",
    "    Q1 = np.quantile(data[\"prizeAmountAdjusted\"], 0.25)\n",
    "    IQR = Q3 - Q1\n",
    "    sideTop = Q3 + 3 * IQR\n",
    "    sideBot = Q1 - 3 * IQR\n",
    "\n",
    "    arrayPrizeAmountAdjusted = []\n",
    "    for i in range(0, len(df[\"prizeAmountAdjusted\"])):\n",
    "        if df[\"prizeAmountAdjusted\"][i] < sideBot:\n",
    "            arrayPrizeAmountAdjusted.append(sideBot)\n",
    "        elif df[\"prizeAmountAdjusted\"][i] > sideTop:\n",
    "            arrayPrizeAmountAdjusted.append(sideTop)\n",
    "        else:\n",
    "            arrayPrizeAmountAdjusted.append(df[\"prizeAmountAdjusted\"][i])\n",
    "    df[\"prizeAmountAdjusted\"] = arrayPrizeAmountAdjusted  \n",
    "    return df\n",
    "\n",
    "data = removeOutliersPrizeAmount(data)\n",
    "\n",
    "# 2 Xu ly du lieu ngoai le Age\n",
    "# Age la phan bo chuan \n",
    "def removeOutliersAge(df):\n",
    "    average = np.average(df[\"Age\"])\n",
    "    std = np.std(df[\"Age\"])\n",
    "    sideTop = average + 3 * std\n",
    "    sideBot = average - 3 * std\n",
    "    arrayAge = []\n",
    "    for i in range(0, len(df[\"Age\"])):\n",
    "        if df[\"Age\"][i] < sideBot:\n",
    "            arrayAge.append(sideBot)\n",
    "        elif df[\"Age\"][i] > sideTop:\n",
    "            arrayAge.append(sideTop)\n",
    "        else:\n",
    "            arrayAge.append(df[\"Age\"][i])\n",
    "    df[\"Age\"] = arrayAge  \n",
    "    return df\n",
    "\n",
    "data = removeOutliersAge(data)\n"
   ]
  },
  {
   "cell_type": "code",
   "execution_count": 51,
   "metadata": {},
   "outputs": [
    {
     "data": {
      "image/png": "[encoded data removed]",
      "text/plain": [
       "<Figure size 360x360 with 1 Axes>"
      ]
     },
     "metadata": {
      "needs_background": "light"
     },
     "output_type": "display_data"
    },
    {
     "data": {
      "image/png": "[encoded data removed]",
      "text/plain": [
       "<Figure size 360x360 with 1 Axes>"
      ]
     },
     "metadata": {
      "needs_background": "light"
     },
     "output_type": "display_data"
    },
    {
     "data": {
      "image/png": "[encoded data removed]",
      "text/plain": [
       "<Figure size 360x360 with 1 Axes>"
      ]
     },
     "metadata": {
      "needs_background": "light"
     },
     "output_type": "display_data"
    }
   ],
   "source": [
    "sns.displot(data= data[\"prizeAmount\"])\n",
    "plt.show()\n",
    "sns.displot(data= data[\"prizeAmountAdjusted\"])\n",
    "plt.show()\n",
    "sns.displot(data= data[\"Age\"])\n",
    "plt.show()"
   ]
  },
  {
   "cell_type": "code",
   "execution_count": 65,
   "metadata": {},
   "outputs": [
    {
     "name": "stdout",
     "output_type": "stream",
     "text": [
      "Index(['Age', 'prizeAmount', 'prizeAmountAdjusted', 'awardYear'], dtype='object')\n"
     ]
    },
    {
     "ename": "KeyError",
     "evalue": "'sortOrder'",
     "output_type": "error",
     "traceback": [
      "\u001b[0;31m---------------------------------------------------------------------------\u001b[0m",
      "\u001b[0;31mKeyError\u001b[0m                                  Traceback (most recent call last)",
      "File \u001b[0;32m~/.local/lib/python3.8/site-packages/pandas/core/indexes/base.py:3621\u001b[0m, in \u001b[0;36mIndex.get_loc\u001b[0;34m(self, key, method, tolerance)\u001b[0m\n\u001b[1;32m   <a href='file:///home/binbin/.local/lib/python3.8/site-packages/pandas/core/indexes/base.py?line=3619'>3620</a>\u001b[0m \u001b[39mtry\u001b[39;00m:\n\u001b[0;32m-> <a href='file:///home/binbin/.local/lib/python3.8/site-packages/pandas/core/indexes/base.py?line=3620'>3621</a>\u001b[0m     \u001b[39mreturn\u001b[39;00m \u001b[39mself\u001b[39;49m\u001b[39m.\u001b[39;49m_engine\u001b[39m.\u001b[39;49mget_loc(casted_key)\n\u001b[1;32m   <a href='file:///home/binbin/.local/lib/python3.8/site-packages/pandas/core/indexes/base.py?line=3621'>3622</a>\u001b[0m \u001b[39mexcept\u001b[39;00m \u001b[39mKeyError\u001b[39;00m \u001b[39mas\u001b[39;00m err:\n",
      "File \u001b[0;32m~/.local/lib/python3.8/site-packages/pandas/_libs/index.pyx:136\u001b[0m, in \u001b[0;36mpandas._libs.index.IndexEngine.get_loc\u001b[0;34m()\u001b[0m\n",
      "File \u001b[0;32m~/.local/lib/python3.8/site-packages/pandas/_libs/index.pyx:163\u001b[0m, in \u001b[0;36mpandas._libs.index.IndexEngine.get_loc\u001b[0;34m()\u001b[0m\n",
      "File \u001b[0;32mpandas/_libs/hashtable_class_helper.pxi:5198\u001b[0m, in \u001b[0;36mpandas._libs.hashtable.PyObjectHashTable.get_item\u001b[0;34m()\u001b[0m\n",
      "File \u001b[0;32mpandas/_libs/hashtable_class_helper.pxi:5206\u001b[0m, in \u001b[0;36mpandas._libs.hashtable.PyObjectHashTable.get_item\u001b[0;34m()\u001b[0m\n",
      "\u001b[0;31mKeyError\u001b[0m: 'sortOrder'",
      "\nThe above exception was the direct cause of the following exception:\n",
      "\u001b[0;31mKeyError\u001b[0m                                  Traceback (most recent call last)",
      "\u001b[1;32m/home/binbin/University/semester2_2122/Data_Science/BT/102190061_LyThanhHai.ipynb Cell 24'\u001b[0m in \u001b[0;36m<cell line: 66>\u001b[0;34m()\u001b[0m\n\u001b[1;32m     <a href='vscode-notebook-cell:/home/binbin/University/semester2_2122/Data_Science/BT/102190061_LyThanhHai.ipynb#ch0000023?line=60'>61</a>\u001b[0m     \u001b[39mprint\u001b[39m(\u001b[39m\"\u001b[39m\u001b[39mscore: \u001b[39m\u001b[39m\"\u001b[39m,gscv\u001b[39m.\u001b[39mbest_score_, sep\u001b[39m=\u001b[39m \u001b[39m\"\u001b[39m\u001b[39m \u001b[39m\u001b[39m\"\u001b[39m)\n\u001b[1;32m     <a href='vscode-notebook-cell:/home/binbin/University/semester2_2122/Data_Science/BT/102190061_LyThanhHai.ipynb#ch0000023?line=61'>62</a>\u001b[0m     \u001b[39mprint\u001b[39m(\u001b[39m'\u001b[39m\u001b[39mbest_params: \u001b[39m\u001b[39m'\u001b[39m, gscv\u001b[39m.\u001b[39mbest_params_, sep\u001b[39m=\u001b[39m\u001b[39m\"\u001b[39m\u001b[39m \u001b[39m\u001b[39m\"\u001b[39m)\n\u001b[0;32m---> <a href='vscode-notebook-cell:/home/binbin/University/semester2_2122/Data_Science/BT/102190061_LyThanhHai.ipynb#ch0000023?line=65'>66</a>\u001b[0m MyLogisticRegression \u001b[39m=\u001b[39m myLogisticRegression(data)\n\u001b[1;32m     <a href='vscode-notebook-cell:/home/binbin/University/semester2_2122/Data_Science/BT/102190061_LyThanhHai.ipynb#ch0000023?line=66'>67</a>\u001b[0m \u001b[39mprint\u001b[39m(\u001b[39m\"\u001b[39m\u001b[39mAccuracy before using grid search: \u001b[39m\u001b[39m\"\u001b[39m, MyLogisticRegression \u001b[39m*\u001b[39m \u001b[39m100\u001b[39m, \u001b[39m\"\u001b[39m\u001b[39m%\u001b[39m\u001b[39m\"\u001b[39m, sep\u001b[39m=\u001b[39m \u001b[39m\"\u001b[39m\u001b[39m \u001b[39m\u001b[39m\"\u001b[39m)\n",
      "\u001b[1;32m/home/binbin/University/semester2_2122/Data_Science/BT/102190061_LyThanhHai.ipynb Cell 24'\u001b[0m in \u001b[0;36mmyLogisticRegression\u001b[0;34m(df)\u001b[0m\n\u001b[1;32m     <a href='vscode-notebook-cell:/home/binbin/University/semester2_2122/Data_Science/BT/102190061_LyThanhHai.ipynb#ch0000023?line=25'>26</a>\u001b[0m \u001b[39mdef\u001b[39;00m \u001b[39mmyLogisticRegression\u001b[39m(df):\n\u001b[1;32m     <a href='vscode-notebook-cell:/home/binbin/University/semester2_2122/Data_Science/BT/102190061_LyThanhHai.ipynb#ch0000023?line=26'>27</a>\u001b[0m     X \u001b[39m=\u001b[39m df[[\u001b[39m\"\u001b[39m\u001b[39mAge\u001b[39m\u001b[39m\"\u001b[39m, \u001b[39m'\u001b[39m\u001b[39mprizeAmount\u001b[39m\u001b[39m'\u001b[39m, \u001b[39m'\u001b[39m\u001b[39mprizeAmountAdjusted\u001b[39m\u001b[39m'\u001b[39m, \u001b[39m'\u001b[39m\u001b[39mawardYear\u001b[39m\u001b[39m'\u001b[39m]]\n\u001b[0;32m---> <a href='vscode-notebook-cell:/home/binbin/University/semester2_2122/Data_Science/BT/102190061_LyThanhHai.ipynb#ch0000023?line=27'>28</a>\u001b[0m     y \u001b[39m=\u001b[39m df[\u001b[39m'\u001b[39;49m\u001b[39msortOrder\u001b[39;49m\u001b[39m'\u001b[39;49m]\n\u001b[1;32m     <a href='vscode-notebook-cell:/home/binbin/University/semester2_2122/Data_Science/BT/102190061_LyThanhHai.ipynb#ch0000023?line=28'>29</a>\u001b[0m     array \u001b[39m=\u001b[39m []\n\u001b[1;32m     <a href='vscode-notebook-cell:/home/binbin/University/semester2_2122/Data_Science/BT/102190061_LyThanhHai.ipynb#ch0000023?line=29'>30</a>\u001b[0m     \u001b[39mfor\u001b[39;00m i \u001b[39min\u001b[39;00m \u001b[39mrange\u001b[39m(\u001b[39m0\u001b[39m, \u001b[39m10\u001b[39m):\n",
      "File \u001b[0;32m~/.local/lib/python3.8/site-packages/pandas/core/frame.py:3505\u001b[0m, in \u001b[0;36mDataFrame.__getitem__\u001b[0;34m(self, key)\u001b[0m\n\u001b[1;32m   <a href='file:///home/binbin/.local/lib/python3.8/site-packages/pandas/core/frame.py?line=3502'>3503</a>\u001b[0m \u001b[39mif\u001b[39;00m \u001b[39mself\u001b[39m\u001b[39m.\u001b[39mcolumns\u001b[39m.\u001b[39mnlevels \u001b[39m>\u001b[39m \u001b[39m1\u001b[39m:\n\u001b[1;32m   <a href='file:///home/binbin/.local/lib/python3.8/site-packages/pandas/core/frame.py?line=3503'>3504</a>\u001b[0m     \u001b[39mreturn\u001b[39;00m \u001b[39mself\u001b[39m\u001b[39m.\u001b[39m_getitem_multilevel(key)\n\u001b[0;32m-> <a href='file:///home/binbin/.local/lib/python3.8/site-packages/pandas/core/frame.py?line=3504'>3505</a>\u001b[0m indexer \u001b[39m=\u001b[39m \u001b[39mself\u001b[39;49m\u001b[39m.\u001b[39;49mcolumns\u001b[39m.\u001b[39;49mget_loc(key)\n\u001b[1;32m   <a href='file:///home/binbin/.local/lib/python3.8/site-packages/pandas/core/frame.py?line=3505'>3506</a>\u001b[0m \u001b[39mif\u001b[39;00m is_integer(indexer):\n\u001b[1;32m   <a href='file:///home/binbin/.local/lib/python3.8/site-packages/pandas/core/frame.py?line=3506'>3507</a>\u001b[0m     indexer \u001b[39m=\u001b[39m [indexer]\n",
      "File \u001b[0;32m~/.local/lib/python3.8/site-packages/pandas/core/indexes/base.py:3623\u001b[0m, in \u001b[0;36mIndex.get_loc\u001b[0;34m(self, key, method, tolerance)\u001b[0m\n\u001b[1;32m   <a href='file:///home/binbin/.local/lib/python3.8/site-packages/pandas/core/indexes/base.py?line=3620'>3621</a>\u001b[0m     \u001b[39mreturn\u001b[39;00m \u001b[39mself\u001b[39m\u001b[39m.\u001b[39m_engine\u001b[39m.\u001b[39mget_loc(casted_key)\n\u001b[1;32m   <a href='file:///home/binbin/.local/lib/python3.8/site-packages/pandas/core/indexes/base.py?line=3621'>3622</a>\u001b[0m \u001b[39mexcept\u001b[39;00m \u001b[39mKeyError\u001b[39;00m \u001b[39mas\u001b[39;00m err:\n\u001b[0;32m-> <a href='file:///home/binbin/.local/lib/python3.8/site-packages/pandas/core/indexes/base.py?line=3622'>3623</a>\u001b[0m     \u001b[39mraise\u001b[39;00m \u001b[39mKeyError\u001b[39;00m(key) \u001b[39mfrom\u001b[39;00m \u001b[39merr\u001b[39;00m\n\u001b[1;32m   <a href='file:///home/binbin/.local/lib/python3.8/site-packages/pandas/core/indexes/base.py?line=3623'>3624</a>\u001b[0m \u001b[39mexcept\u001b[39;00m \u001b[39mTypeError\u001b[39;00m:\n\u001b[1;32m   <a href='file:///home/binbin/.local/lib/python3.8/site-packages/pandas/core/indexes/base.py?line=3624'>3625</a>\u001b[0m     \u001b[39m# If we have a listlike key, _check_indexing_error will raise\u001b[39;00m\n\u001b[1;32m   <a href='file:///home/binbin/.local/lib/python3.8/site-packages/pandas/core/indexes/base.py?line=3625'>3626</a>\u001b[0m     \u001b[39m#  InvalidIndexError. Otherwise we fall through and re-raise\u001b[39;00m\n\u001b[1;32m   <a href='file:///home/binbin/.local/lib/python3.8/site-packages/pandas/core/indexes/base.py?line=3626'>3627</a>\u001b[0m     \u001b[39m#  the TypeError.\u001b[39;00m\n\u001b[1;32m   <a href='file:///home/binbin/.local/lib/python3.8/site-packages/pandas/core/indexes/base.py?line=3627'>3628</a>\u001b[0m     \u001b[39mself\u001b[39m\u001b[39m.\u001b[39m_check_indexing_error(key)\n",
      "\u001b[0;31mKeyError\u001b[0m: 'sortOrder'"
     ]
    }
   ],
   "source": [
    "from sklearn.model_selection import train_test_split, GridSearchCV\n",
    "from sklearn.linear_model import LogisticRegression\n",
    "from sklearn.metrics import classification_report, accuracy_score\n",
    "from sklearn.pipeline import Pipeline, make_pipeline\n",
    "from sklearn.impute import KNNImputer, SimpleImputer\n",
    "from sklearn.preprocessing import OneHotEncoder, MinMaxScaler, StandardScaler\n",
    "from sklearn.compose import ColumnTransformer\n",
    "from sklearn.metrics import accuracy_score\n",
    "from sklearn.metrics import fbeta_score\n",
    "from sklearn.metrics import make_scorer\n",
    "from sklearn.model_selection import cross_val_score\n",
    "from sklearn.model_selection import RepeatedStratifiedKFold, RepeatedKFold\n",
    "from sklearn.datasets import make_regression\n",
    "from sklearn.model_selection import cross_validate\n",
    "from sklearn.base import BaseEstimator\n",
    "from sklearn.preprocessing import MinMaxScaler\n",
    "\n",
    "print(data.columns)\n",
    "# def minMaxNormalization(data):\n",
    "#     min_max = MinMaxScaler()\n",
    "#     df_minmax = pd.DataFrame(min_max.fit_transform(data[[\"Age\", 'prizeAmount', 'prizeAmountAdjusted', 'awardYear']]), columns = [\"Age\", 'prizeAmount', 'prizeAmountAdjusted', 'awardYear'])\n",
    "#     return df_minmax\n",
    "\n",
    "# data = minMaxNormalization(data)\n",
    "\n",
    "def myLogisticRegression(df):\n",
    "    X = df[[\"Age\", 'prizeAmount', 'prizeAmountAdjusted', 'awardYear']]\n",
    "    y = df['sortOrder']\n",
    "    array = []\n",
    "    for i in range(0, 10):\n",
    "        X_train, X_test, y_train, y_test = train_test_split(X, y, test_size = 0.2, random_state = i)\n",
    "\n",
    "        logmodel = LogisticRegression()\n",
    "        logmodel.fit(X_train, y_train)\n",
    "        predictions = logmodel.predict(X_test)\n",
    "        Accuracy_Score = accuracy_score(y_test, predictions)\n",
    "\n",
    "        array.append(Accuracy_Score)\n",
    "\n",
    "        \n",
    "    return np.mean(array)\n",
    "\n",
    "def myLogisticRegression_GridSearch(df):\n",
    "    X = df[[\"Age\", 'prizeAmount', 'prizeAmountAdjusted', 'awardYear']]\n",
    "    y = df['sortOrder']\n",
    "    X_train, X_test, y_train, y_test = train_test_split(X, y, test_size = 0.2, random_state = 1)\n",
    "\n",
    "\n",
    "    model = LogisticRegression()\n",
    "    parameters = [\n",
    "        {\n",
    "            'C': np.logspace(-3 , 3, 7),\n",
    "            'penalty': ('l1', 'l2', 'elasticnet'),\n",
    "            'max_iter': [50, 80, 100],\n",
    "            'solver': ['newton-cg', 'lbfgs', 'sag', 'saga'],\n",
    "\n",
    "        },\n",
    "    ]\n",
    "    gscv = GridSearchCV(model, parameters, cv= 5, n_jobs= -1, scoring= \"accuracy\", return_train_score= True, error_score= 0, verbose= 3)\n",
    "    gscv.fit(X_train, y_train)\n",
    "    print(\"score: \",gscv.best_score_, sep= \" \")\n",
    "    print('best_params: ', gscv.best_params_, sep=\" \")\n",
    "\n",
    "\n",
    "\n",
    "MyLogisticRegression = myLogisticRegression(data)\n",
    "print(\"Accuracy before using grid search: \", MyLogisticRegression * 100, \"%\", sep= \" \")\n",
    "\n",
    "# LogisticRegression().get_params().keys()\n",
    "\n",
    "# LogisticRegression_GridSearch = myLogisticRegression_GridSearch(data)\n"
   ]
  },
  {
   "cell_type": "code",
   "execution_count": 56,
   "metadata": {},
   "outputs": [],
   "source": [
    "model = LogisticRegression(C= 0.1, max_iter= 80, penalty= 'l2', solver= 'newton-cg')\n",
    "results = cross_validate(estimator= model, X= data[[\"Age\", 'prizeAmount', 'prizeAmountAdjusted', 'awardYear']], y= data[[\"sortOrder\"]], cv= 5)"
   ]
  },
  {
   "cell_type": "code",
   "execution_count": 55,
   "metadata": {},
   "outputs": [
    {
     "name": "stdout",
     "output_type": "stream",
     "text": [
      "Accuracy after using grid search:  62.84210526315789 %\n"
     ]
    }
   ],
   "source": [
    "accuracy = np.mean(results['test_score'])\n",
    "print(\"Accuracy after using grid search: \", accuracy * 100, \"%\", sep= \" \")"
   ]
  },
  {
   "cell_type": "code",
   "execution_count": 58,
   "metadata": {},
   "outputs": [
    {
     "name": "stdout",
     "output_type": "stream",
     "text": [
      "Improve is increase: 1.3582342954159492%\n"
     ]
    }
   ],
   "source": [
    "print(f\"Improve is increase: {((accuracy - MyLogisticRegression) / MyLogisticRegression ) * 100}%\")"
   ]
  },
  {
   "cell_type": "markdown",
   "metadata": {},
   "source": [
    "Ket Luan: Lua chon bo tham so toi uu tu phuong phap grid search cho do chinh xac cao hon 1.36%"
   ]
  }
 ],
 "metadata": {
  "kernelspec": {
   "display_name": "Python 3.8.10 64-bit",
   "language": "python",
   "name": "python3"
  },
  "language_info": {
   "codemirror_mode": {
    "name": "ipython",
    "version": 3
   },
   "file_extension": ".py",
   "mimetype": "text/x-python",
   "name": "python",
   "nbconvert_exporter": "python",
   "pygments_lexer": "ipython3",
   "version": "3.8.10"
  },
  "orig_nbformat": 4,
  "vscode": {
   "interpreter": {
    "hash": "916dbcbb3f70747c44a77c7bcd40155683ae19c65e1c03b4aa3499c5328201f1"
   }
  }
 },
 "nbformat": 4,
 "nbformat_minor": 2
}
