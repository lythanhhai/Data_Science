{
 "cells": [
  {
   "cell_type": "markdown",
   "metadata": {},
   "source": [
    "# 102190061 - Ly Thanh Hai"
   ]
  },
  {
   "cell_type": "markdown",
   "metadata": {},
   "source": [
    "# Bai Tap 1\n"
   ]
  },
  {
   "cell_type": "code",
   "execution_count": 39,
   "metadata": {},
   "outputs": [],
   "source": [
    "import pandas as pd\n",
    "import matplotlib.pyplot as plt\n",
    "import numpy as np\n",
    "import seaborn as sns\n",
    "from tabulate import tabulate"
   ]
  },
  {
   "cell_type": "code",
   "execution_count": 40,
   "metadata": {},
   "outputs": [
    {
     "data": {
      "text/html": [
       "<div>\n",
       "<style scoped>\n",
       "    .dataframe tbody tr th:only-of-type {\n",
       "        vertical-align: middle;\n",
       "    }\n",
       "\n",
       "    .dataframe tbody tr th {\n",
       "        vertical-align: top;\n",
       "    }\n",
       "\n",
       "    .dataframe thead th {\n",
       "        text-align: right;\n",
       "    }\n",
       "</style>\n",
       "<table border=\"1\" class=\"dataframe\">\n",
       "  <thead>\n",
       "    <tr style=\"text-align: right;\">\n",
       "      <th></th>\n",
       "      <th>survived</th>\n",
       "      <th>pclass</th>\n",
       "      <th>age</th>\n",
       "      <th>sibsp</th>\n",
       "      <th>parch</th>\n",
       "      <th>fare</th>\n",
       "    </tr>\n",
       "  </thead>\n",
       "  <tbody>\n",
       "    <tr>\n",
       "      <th>0</th>\n",
       "      <td>0</td>\n",
       "      <td>3</td>\n",
       "      <td>22.0</td>\n",
       "      <td>1</td>\n",
       "      <td>0</td>\n",
       "      <td>7.2500</td>\n",
       "    </tr>\n",
       "    <tr>\n",
       "      <th>1</th>\n",
       "      <td>1</td>\n",
       "      <td>1</td>\n",
       "      <td>38.0</td>\n",
       "      <td>1</td>\n",
       "      <td>0</td>\n",
       "      <td>71.2833</td>\n",
       "    </tr>\n",
       "    <tr>\n",
       "      <th>2</th>\n",
       "      <td>1</td>\n",
       "      <td>3</td>\n",
       "      <td>26.0</td>\n",
       "      <td>0</td>\n",
       "      <td>0</td>\n",
       "      <td>7.9250</td>\n",
       "    </tr>\n",
       "    <tr>\n",
       "      <th>3</th>\n",
       "      <td>1</td>\n",
       "      <td>1</td>\n",
       "      <td>35.0</td>\n",
       "      <td>1</td>\n",
       "      <td>0</td>\n",
       "      <td>53.1000</td>\n",
       "    </tr>\n",
       "    <tr>\n",
       "      <th>4</th>\n",
       "      <td>0</td>\n",
       "      <td>3</td>\n",
       "      <td>35.0</td>\n",
       "      <td>0</td>\n",
       "      <td>0</td>\n",
       "      <td>8.0500</td>\n",
       "    </tr>\n",
       "  </tbody>\n",
       "</table>\n",
       "</div>"
      ],
      "text/plain": [
       "   survived  pclass   age  sibsp  parch     fare\n",
       "0         0       3  22.0      1      0   7.2500\n",
       "1         1       1  38.0      1      0  71.2833\n",
       "2         1       3  26.0      0      0   7.9250\n",
       "3         1       1  35.0      1      0  53.1000\n",
       "4         0       3  35.0      0      0   8.0500"
      ]
     },
     "execution_count": 40,
     "metadata": {},
     "output_type": "execute_result"
    }
   ],
   "source": [
    "data = pd.read_csv('../State/Titanic/titanic.csv')\n",
    "data.drop(columns=[\"sex\", \"embarked\", 'class', 'who', 'adult_male', \"deck\", \"embark_town\", \"alive\", \"alone\"], inplace=True)\n",
    "data.head()"
   ]
  },
  {
   "cell_type": "code",
   "execution_count": 41,
   "metadata": {},
   "outputs": [
    {
     "data": {
      "text/plain": [
       "survived      0\n",
       "pclass        0\n",
       "age         177\n",
       "sibsp         0\n",
       "parch         0\n",
       "fare          0\n",
       "dtype: int64"
      ]
     },
     "execution_count": 41,
     "metadata": {},
     "output_type": "execute_result"
    }
   ],
   "source": [
    "data.isnull().sum()"
   ]
  },
  {
   "cell_type": "markdown",
   "metadata": {},
   "source": [
    "# 1. BT 5.1"
   ]
  },
  {
   "cell_type": "markdown",
   "metadata": {},
   "source": [
    "- 7 Ky thuat lam sach du lieu"
   ]
  },
  {
   "cell_type": "markdown",
   "metadata": {},
   "source": [
    "1. Mean"
   ]
  },
  {
   "cell_type": "code",
   "execution_count": 42,
   "metadata": {},
   "outputs": [],
   "source": [
    "def meanFunction(data):\n",
    "    data1 = data.copy()\n",
    "    data1['age'].fillna(data1['age'].mean(), inplace=True)\n",
    "    # data1['age'].isna().sum()\n",
    "    return data1"
   ]
  },
  {
   "cell_type": "markdown",
   "metadata": {},
   "source": [
    "2. Median"
   ]
  },
  {
   "cell_type": "code",
   "execution_count": 43,
   "metadata": {},
   "outputs": [],
   "source": [
    "def medianFunction(data):\n",
    "    data2 = data.copy()\n",
    "    data2['age'].fillna(data2['age'].median(), inplace=True)\n",
    "    # data2['age'].isna().sum()\n",
    "    return data2"
   ]
  },
  {
   "cell_type": "markdown",
   "metadata": {},
   "source": [
    "3. Mode imputation"
   ]
  },
  {
   "cell_type": "code",
   "execution_count": 44,
   "metadata": {},
   "outputs": [],
   "source": [
    "def modeFunction(data):\n",
    "    data3 = data.copy()\n",
    "    data3['age'].fillna(data3['age'].mode()[0], inplace=True)\n",
    "    # data3['age'].isna().sum()\n",
    "    return data3\n",
    "# data3.tail()\n",
    "# print(data3['age'].mode())"
   ]
  },
  {
   "cell_type": "markdown",
   "metadata": {},
   "source": [
    "4. Random"
   ]
  },
  {
   "cell_type": "code",
   "execution_count": 45,
   "metadata": {},
   "outputs": [],
   "source": [
    "def randomFunction(data):\n",
    "    data4 = data.copy()\n",
    "    data4['age'].dropna().sample()\n",
    "    random_samples = data4['age'].dropna().sample(n=data4['age'].isnull().sum(), random_state=0)\n",
    "    # random_samples\n",
    "    random_samples.index = data4[data4['age'].isnull()].index\n",
    "    # print(random_samples.index)\n",
    "    data4['age_random'] = data4['age']\n",
    "    data4.loc[data4['age'].isnull(), 'age_random'] = random_samples\n",
    "    data4['age'] = data4['age_random']\n",
    "    del data4['age_random']\n",
    "    # data4['age'].isna().sum()\n",
    "    return data4"
   ]
  },
  {
   "cell_type": "markdown",
   "metadata": {},
   "source": [
    "5. End of Dist"
   ]
  },
  {
   "cell_type": "code",
   "execution_count": 46,
   "metadata": {},
   "outputs": [],
   "source": [
    "def endOfDistFunction(data):\n",
    "    data5 = data.copy()\n",
    "    # data5.age.hist(bins=50)\n",
    "    extreme = data5.age.mean() + 3 * data5.age.std()\n",
    "    extreme\n",
    "    def impute_nan(df,variable,median,extreme):\n",
    "        df[variable+\"_end_dist\"] = df[variable].fillna(extreme)\n",
    "        df[variable].fillna(median, inplace=True)\n",
    "    impute_nan(data5,'age', data5.age.median(), extreme)\n",
    "    # data5['age'].isna().sum()\n",
    "    return data5\n"
   ]
  },
  {
   "cell_type": "markdown",
   "metadata": {},
   "source": [
    "6. Arbitrary values"
   ]
  },
  {
   "cell_type": "code",
   "execution_count": 47,
   "metadata": {},
   "outputs": [],
   "source": [
    "def arbitraryFunction(data):\n",
    "    data6 = data.copy()\n",
    "    def impute_nan(df,variable):\n",
    "        df[variable+'_zero'] = df[variable].fillna(0)\n",
    "        df[variable+'_hundred'] = df[variable].fillna(100)\n",
    "    random = np.random.randint(0, 100)\n",
    "    data6['age'].fillna(random, inplace=True)\n",
    "    # impute_nan(data6, 'age')\n",
    "    # data6.tail()\n",
    "    return data6\n",
    "# data6['age'].isna().sum()"
   ]
  },
  {
   "cell_type": "markdown",
   "metadata": {},
   "source": [
    "7. New Feature\n"
   ]
  },
  {
   "cell_type": "code",
   "execution_count": 48,
   "metadata": {},
   "outputs": [],
   "source": [
    "def newFeatureFunction(data):\n",
    "    data7 = data.copy()\n",
    "    data7['age_NAN']=np.where(data7['age'].isnull(),1,0)\n",
    "    data7['age'].fillna(data7.age.median(), inplace=True)\n",
    "    # data7['age'].isna().sum()\n",
    "    # data7.tail()\n",
    "    return data7"
   ]
  },
  {
   "cell_type": "markdown",
   "metadata": {},
   "source": [
    "- Xu ly du lieu ngoai le cho du lieu"
   ]
  },
  {
   "cell_type": "markdown",
   "metadata": {},
   "source": [
    "8. Outliers"
   ]
  },
  {
   "cell_type": "code",
   "execution_count": 49,
   "metadata": {},
   "outputs": [
    {
     "data": {
      "image/png": "[encoded data removed]",
      "text/plain": [
       "<Figure size 360x360 with 1 Axes>"
      ]
     },
     "metadata": {
      "needs_background": "light"
     },
     "output_type": "display_data"
    },
    {
     "data": {
      "image/png": "[encoded data removed]",
      "text/plain": [
       "<Figure size 360x360 with 1 Axes>"
      ]
     },
     "metadata": {
      "needs_background": "light"
     },
     "output_type": "display_data"
    }
   ],
   "source": [
    "def drawDistPlot(data):\n",
    "    sns.displot(data= data[\"age\"])\n",
    "    plt.show()\n",
    "    sns.displot(data= data[\"fare\"])\n",
    "    plt.show()\n",
    "\n",
    "drawDistPlot(newFeatureFunction(data))\n"
   ]
  },
  {
   "cell_type": "code",
   "execution_count": 50,
   "metadata": {},
   "outputs": [],
   "source": [
    "# age la phan bo chuan\n",
    "#2 Xu ly du lieu ngoai le age\n",
    "def removeOutliersAge(df):\n",
    "    average = np.average(df[\"age\"])\n",
    "    std = np.std(df[\"age\"])\n",
    "    sideTop = average + 3 * std\n",
    "    sideBot = average - 3 * std\n",
    "    arrayAge = []\n",
    "    for i in range(0, len(df[\"age\"])):\n",
    "        if df[\"age\"][i] < sideBot:\n",
    "            arrayAge.append(sideBot)\n",
    "        elif df[\"age\"][i] > sideTop:\n",
    "            arrayAge.append(sideTop)\n",
    "        else:\n",
    "            arrayAge.append(df[\"age\"][i])\n",
    "    df[\"age\"] = arrayAge  \n",
    "    return df\n",
    "\n",
    "# fare la phan bo lech\n",
    "#3 Xu ly du lieu ngoai le fare\n",
    "def removeOutliersFare(df):\n",
    "    Q3 = np.quantile(df[\"fare\"], 0.75)\n",
    "    Q1 = np.quantile(df[\"fare\"], 0.25)\n",
    "    IQR = Q3 - Q1\n",
    "    sideTop = Q3 + 3 * IQR\n",
    "    sideBot = Q1 - 3 * IQR\n",
    "    arrayFare = []\n",
    "    for i in range(0, len(df[\"fare\"])):\n",
    "        if df[\"fare\"][i] < sideBot:\n",
    "            arrayFare.append(sideBot)\n",
    "        elif df[\"fare\"][i] > sideTop:\n",
    "            arrayFare.append(sideTop)\n",
    "        else:\n",
    "            arrayFare.append( df[\"fare\"][i])\n",
    "    df[\"fare\"] = arrayFare\n",
    "    return df\n",
    "\n",
    "# def combine(df1):\n",
    "#     removeOutliersAge(df1)\n",
    "#     removeOutliersFare(df1)\n",
    "\n",
    "# removeOutliersAge(newFeatureFunction(data))\n",
    "# removeOutliersFare(newFeatureFunction(data))\n",
    "# drawDistPlot(newFeatureFunction(data))\n"
   ]
  },
  {
   "cell_type": "markdown",
   "metadata": {},
   "source": [
    "- Trien khai hoi quy logistic"
   ]
  },
  {
   "cell_type": "markdown",
   "metadata": {},
   "source": [
    "9. Logistic regression implementation"
   ]
  },
  {
   "cell_type": "code",
   "execution_count": 51,
   "metadata": {},
   "outputs": [
    {
     "name": "stdout",
     "output_type": "stream",
     "text": [
      "Table about accuracy of group normalization and 7 technology data cleaning: \n",
      "+-------------------+----------+----------+----------+----------+-------------+-------------+--------------+\n",
      "|                   |     mean |   median |     mode |   random |   endOfDist |   arbitrary |   newFeature |\n",
      "+===================+==========+==========+==========+==========+=============+=============+==============+\n",
      "| non_normalization | 0.65322  | 0.652881 | 0.652881 | 0.652203 |    0.652881 |    0.661695 |     0.652881 |\n",
      "+-------------------+----------+----------+----------+----------+-------------+-------------+--------------+\n",
      "| nomalization      | 0.668475 | 0.667797 | 0.667797 | 0.66678  |    0.667797 |    0.66339  |     0.667797 |\n",
      "+-------------------+----------+----------+----------+----------+-------------+-------------+--------------+\n"
     ]
    }
   ],
   "source": [
    "from sklearn.model_selection import train_test_split\n",
    "from sklearn.linear_model import LogisticRegression\n",
    "from sklearn.metrics import classification_report, accuracy_score\n",
    "\n",
    "def myLogisticRegression(df):\n",
    "    X = df[[\"age\", 'fare']]\n",
    "    y = df['survived']\n",
    "    array = []\n",
    "    for i in range(0, 10):\n",
    "        X_train, X_test, y_train, y_test = train_test_split(X, y, test_size = 0.33, random_state = i)\n",
    "        logmodel = LogisticRegression()\n",
    "        logmodel.fit(X_train, y_train)\n",
    "        predictions = logmodel.predict(X_test)\n",
    "        # print(classification_report(y_test, predictions))\n",
    "        Accuracy_Score = accuracy_score(y_test, predictions)\n",
    "        # print(Accuracy_Score)\n",
    "        array.append(Accuracy_Score)\n",
    "    \n",
    "    return np.mean(array)\n",
    "\n",
    "\n",
    "mean_nonOut = myLogisticRegression(meanFunction(data))\n",
    "mean_Out = myLogisticRegression(removeOutliersAge(removeOutliersFare(meanFunction(data))))\n",
    "median_nonOut = myLogisticRegression(medianFunction(data))\n",
    "median_Out = myLogisticRegression(removeOutliersAge(removeOutliersFare(medianFunction(data))))\n",
    "mode_nonOut = myLogisticRegression(modeFunction(data))\n",
    "mode_Out = myLogisticRegression(removeOutliersAge(removeOutliersFare(modeFunction(data))))\n",
    "random_nonOut = myLogisticRegression(randomFunction(data))\n",
    "random_Out = myLogisticRegression(removeOutliersAge(removeOutliersFare(randomFunction(data))))\n",
    "endOfDist_nonOut = myLogisticRegression(endOfDistFunction(data))\n",
    "endOfDist_Out = myLogisticRegression(removeOutliersAge(removeOutliersFare(endOfDistFunction(data))))\n",
    "arbitrary_nonOut = myLogisticRegression(arbitraryFunction(data))\n",
    "arbitrary_Out = myLogisticRegression(removeOutliersAge(removeOutliersFare(arbitraryFunction(data))))\n",
    "newFeature_nonOut = myLogisticRegression(newFeatureFunction(data))\n",
    "newFeature_Out = myLogisticRegression(removeOutliersAge(removeOutliersFare(newFeatureFunction(data))))\n",
    "# print(mean_nonOut, mean_Out, sep=\"  \")\n",
    "# print(median_nonOut, median_Out, sep=\"  \")\n",
    "# print(mode_nonOut, mode_Out, sep=\"  \")\n",
    "# print(random_nonOut, random_nonOut, sep=\"  \")\n",
    "# print(endOfDist_nonOut, endOfDist_Out, sep=\"  \")\n",
    "# print(newFeature_nonOut, newFeature_Out, sep=\"  \")\n",
    "mydata = [\n",
    "    [\"non_normalization\", mean_nonOut, median_nonOut, mode_nonOut, random_nonOut, endOfDist_nonOut, arbitrary_nonOut, newFeature_nonOut],\n",
    "    [\"nomalization\", mean_Out, median_Out, mode_Out, random_Out, endOfDist_Out, arbitrary_Out, newFeature_Out],\n",
    "]\n",
    "\n",
    "head = [\"\", \"mean\", \"median\", \"mode\", \"random\", \"endOfDist\", \"arbitrary\", \"newFeature\"]\n",
    "\n",
    "print(\"Table about accuracy of group normalization and 7 technology data cleaning: \")\n",
    "print(tabulate(mydata, headers=head, tablefmt=\"grid\"))"
   ]
  },
  {
   "cell_type": "markdown",
   "metadata": {},
   "source": [
    "# 2. BT 5.2"
   ]
  },
  {
   "cell_type": "markdown",
   "metadata": {},
   "source": [
    "- Cac ky thuat chuan hoa du lieu"
   ]
  },
  {
   "cell_type": "markdown",
   "metadata": {},
   "source": [
    "1. z-score\n"
   ]
  },
  {
   "cell_type": "code",
   "execution_count": 52,
   "metadata": {},
   "outputs": [],
   "source": [
    "from sklearn.preprocessing import StandardScaler\n",
    "\n",
    "def zScoreNormalization(data):\n",
    "    scaler = StandardScaler()\n",
    "    df_scaled = pd.DataFrame(scaler.fit_transform(data), columns = data.columns)\n",
    "    return df_scaled"
   ]
  },
  {
   "cell_type": "markdown",
   "metadata": {},
   "source": [
    "2. min-max\n"
   ]
  },
  {
   "cell_type": "code",
   "execution_count": 53,
   "metadata": {},
   "outputs": [],
   "source": [
    "from sklearn.preprocessing import MinMaxScaler\n",
    "\n",
    "def minMaxNormalization(data):\n",
    "    min_max = MinMaxScaler()\n",
    "    df_minmax = pd.DataFrame(min_max.fit_transform(data), columns = data.columns)\n",
    "    return df_minmax"
   ]
  },
  {
   "cell_type": "markdown",
   "metadata": {},
   "source": [
    "3. Robust-outliers\n"
   ]
  },
  {
   "cell_type": "code",
   "execution_count": 54,
   "metadata": {},
   "outputs": [],
   "source": [
    "from sklearn.preprocessing import RobustScaler\n",
    "\n",
    "def robustOuliersNormalization(data):\n",
    "    scaler = RobustScaler()\n",
    "    df_robust_scaler = pd.DataFrame(scaler.fit_transform(data), columns = data.columns)\n",
    "    return df_robust_scaler"
   ]
  },
  {
   "cell_type": "markdown",
   "metadata": {},
   "source": [
    "4. SQRT"
   ]
  },
  {
   "cell_type": "code",
   "execution_count": 55,
   "metadata": {},
   "outputs": [],
   "source": [
    "def sqrtNormalization(data):\n",
    "    data1 = data.apply(np.sqrt)\n",
    "    return data1"
   ]
  },
  {
   "cell_type": "markdown",
   "metadata": {},
   "source": [
    "5. Inverse"
   ]
  },
  {
   "cell_type": "code",
   "execution_count": 56,
   "metadata": {},
   "outputs": [],
   "source": [
    "def invNormalization(data):\n",
    "    data1 = data.copy()\n",
    "    array = []\n",
    "    for i in range(0, len(data1[\"age\"])):\n",
    "       array.append(1 / data1[\"age\"][i])\n",
    "    data1[\"age\"] = array\n",
    "    array1 = []\n",
    "    for i in range(0, len(data1[\"age\"])):\n",
    "       array1.append(1 / data1[\"fare\"][i])\n",
    "    data1[\"fare\"] = array1\n",
    "    return data1"
   ]
  },
  {
   "cell_type": "markdown",
   "metadata": {},
   "source": [
    "6. Caculator Improve Accuracy"
   ]
  },
  {
   "cell_type": "code",
   "execution_count": 57,
   "metadata": {},
   "outputs": [
    {
     "name": "stdout",
     "output_type": "stream",
     "text": [
      "0.6345762711864408 0.668135593220339 0.6694915254237288 0.6223728813559323\n",
      "Percentage improve: \n",
      "minMax is increase: -4.974619289340089%\n",
      "robustOutliers is increase: 0.050761421319796156%\n",
      "sqrt is increase: 0.25380710659898076%\n",
      "inv is increase: -6.802030456852784%\n"
     ]
    },
    {
     "name": "stderr",
     "output_type": "stream",
     "text": [
      "/tmp/ipykernel_5871/4262837399.py:9: RuntimeWarning: divide by zero encountered in double_scalars\n",
      "  array1.append(1 / data1[\"fare\"][i])\n"
     ]
    }
   ],
   "source": [
    "# zScore = myLogisticRegression(removeOutliersAge(removeOutliersFare(zScoreNormalization(medianFunction(data)))))\n",
    "minMax = myLogisticRegression(removeOutliersAge(removeOutliersFare(minMaxNormalization(medianFunction(data)))))\n",
    "robustOutliers = myLogisticRegression(removeOutliersAge(removeOutliersFare(robustOuliersNormalization(medianFunction(data)))))\n",
    "sqrt = myLogisticRegression(removeOutliersAge(removeOutliersFare(sqrtNormalization(medianFunction(data)))))\n",
    "inv = myLogisticRegression(removeOutliersAge(removeOutliersFare(invNormalization(medianFunction(data)))))\n",
    "print(minMax, robustOutliers, sqrt, inv, sep=\" \")\n",
    "print(\"Percentage improve: \")\n",
    "print(f\"minMax is increase: {((minMax - median_Out) / median_Out) * 100}%\")\n",
    "print(f\"robustOutliers is increase: {((robustOutliers - median_Out) / median_Out) * 100}%\")\n",
    "print(f\"sqrt is increase: {((sqrt - median_Out) / median_Out) * 100}%\")\n",
    "print(f\"inv is increase: {((inv - median_Out) / median_Out) * 100}%\")\n"
   ]
  },
  {
   "cell_type": "markdown",
   "metadata": {},
   "source": [
    "Vay sqrt co ti le cai thien cao nhat trong cac ky thuat chuan hoa và tang 0.25%"
   ]
  }
 ],
 "metadata": {
  "kernelspec": {
   "display_name": "Python 3.8.10 64-bit",
   "language": "python",
   "name": "python3"
  },
  "language_info": {
   "codemirror_mode": {
    "name": "ipython",
    "version": 3
   },
   "file_extension": ".py",
   "mimetype": "text/x-python",
   "name": "python",
   "nbconvert_exporter": "python",
   "pygments_lexer": "ipython3",
   "version": "3.8.10"
  },
  "orig_nbformat": 4,
  "vscode": {
   "interpreter": {
    "hash": "916dbcbb3f70747c44a77c7bcd40155683ae19c65e1c03b4aa3499c5328201f1"
   }
  }
 },
 "nbformat": 4,
 "nbformat_minor": 2
}
