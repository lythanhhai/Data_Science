{
 "cells": [
  {
   "cell_type": "markdown",
   "metadata": {},
   "source": [
    "Bài 1: Viết chương trình cài đặt phương pháp Bootstrap để xuất ra phân bố lấy mẫu và dải tin cậy của một thông số thống kê của một biến (đặc trưng) nào đó của dataset."
   ]
  },
  {
   "cell_type": "code",
   "execution_count": 22,
   "metadata": {},
   "outputs": [
    {
     "data": {
      "text/plain": [
       "(array([ 1.,  1.,  1.,  0.,  1.,  2.,  3.,  6.,  3.,  3.,  8.,  5., 15.,\n",
       "        19., 14., 26., 20., 27., 32., 32., 37., 43., 46., 39., 51., 49.,\n",
       "        50., 52., 43., 48., 48., 42., 44., 31., 36., 15., 26., 15., 13.,\n",
       "        17.,  9.,  5.,  6.,  4.,  5.,  4.,  2.,  0.,  0.,  1.]),\n",
       " array([3133832.74441312, 3139192.56919771, 3144552.3939823 ,\n",
       "        3149912.2187669 , 3155272.04355149, 3160631.86833608,\n",
       "        3165991.69312068, 3171351.51790527, 3176711.34268986,\n",
       "        3182071.16747446, 3187430.99225905, 3192790.81704364,\n",
       "        3198150.64182823, 3203510.46661283, 3208870.29139742,\n",
       "        3214230.11618201, 3219589.94096661, 3224949.7657512 ,\n",
       "        3230309.59053579, 3235669.41532039, 3241029.24010498,\n",
       "        3246389.06488957, 3251748.88967416, 3257108.71445876,\n",
       "        3262468.53924335, 3267828.36402794, 3273188.18881254,\n",
       "        3278548.01359713, 3283907.83838172, 3289267.66316632,\n",
       "        3294627.48795091, 3299987.3127355 , 3305347.1375201 ,\n",
       "        3310706.96230469, 3316066.78708928, 3321426.61187387,\n",
       "        3326786.43665847, 3332146.26144306, 3337506.08622765,\n",
       "        3342865.91101225, 3348225.73579684, 3353585.56058143,\n",
       "        3358945.38536603, 3364305.21015062, 3369665.03493521,\n",
       "        3375024.8597198 , 3380384.6845044 , 3385744.50928899,\n",
       "        3391104.33407358, 3396464.15885818, 3401823.98364277]),\n",
       " <BarContainer object of 50 artists>)"
      ]
     },
     "execution_count": 22,
     "metadata": {},
     "output_type": "execute_result"
    },
    {
     "data": {
      "image/png": "[encoded data removed]",
      "text/plain": [
       "<Figure size 432x288 with 1 Axes>"
      ]
     },
     "metadata": {
      "needs_background": "light"
     },
     "output_type": "display_data"
    }
   ],
   "source": [
    "import random\n",
    "import matplotlib.pyplot as plt\n",
    "import numpy as np\n",
    "import pandas as pd\n",
    "\n",
    "# read csv\n",
    "data = pd.read_csv('../State/Nobel/complete.csv')\n",
    "prizeAmountAdjusted = np.array(data[\"prizeAmountAdjusted\"])\n",
    "Std = np.std(prizeAmountAdjusted)\n",
    "n = len(prizeAmountAdjusted)\n",
    "M = 1000\n",
    "x = 90\n",
    "resample = []\n",
    "def myBootstrap(n, M, x):\n",
    "    for _ in range(0, M):\n",
    "        index = np.random.randint(0, n, n)\n",
    "        sample = prizeAmountAdjusted[index]\n",
    "        resample.append(np.std(sample))\n",
    "        \n",
    "    Cut = n * ((100 - x) / 2 / 100)\n",
    "    Min = 0 + Cut\n",
    "    Max = n - Cut\n",
    "    \n",
    "myBootstrap(n, M, x)\n",
    "plt.hist(resample, bins=50)\n"
   ]
  },
  {
   "cell_type": "markdown",
   "metadata": {},
   "source": []
  }
 ],
 "metadata": {
  "interpreter": {
   "hash": "4ddca19134ed1687b8d8c5412a23da30631635c88e6be9e55449e4b747454694"
  },
  "kernelspec": {
   "display_name": "Python 3.8.6 64-bit",
   "language": "python",
   "name": "python3"
  },
  "language_info": {
   "codemirror_mode": {
    "name": "ipython",
    "version": 3
   },
   "file_extension": ".py",
   "mimetype": "text/x-python",
   "name": "python",
   "nbconvert_exporter": "python",
   "pygments_lexer": "ipython3",
   "version": "3.8.6"
  },
  "orig_nbformat": 4
 },
 "nbformat": 4,
 "nbformat_minor": 2
}
